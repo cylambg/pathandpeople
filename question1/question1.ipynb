{
 "cells": [
  {
   "cell_type": "code",
   "execution_count": 54,
   "metadata": {},
   "outputs": [],
   "source": [
    "nodes = {'A': ['B','D','H'], \n",
    "         'B': ['A','D','C'], \n",
    "         'C': ['B','D','F'], \n",
    "         'D': ['A','B','C','E'], \n",
    "         'E': ['D','F','H'],\n",
    "         'F': ['C','E','G'],\n",
    "         'G': ['F','H'],\n",
    "         'H': ['A','E','G']}"
   ]
  },
  {
   "cell_type": "code",
   "execution_count": 55,
   "metadata": {},
   "outputs": [
    {
     "name": "stdout",
     "output_type": "stream",
     "text": [
      "all paths:\n",
      "[['A', 'H'], ['A', 'D', 'E', 'H'], ['A', 'B', 'D', 'E', 'H'], ['A', 'B', 'C', 'D', 'E', 'H'], ['A', 'B', 'C', 'F', 'E', 'H'], ['A', 'B', 'C', 'F', 'G', 'H'], ['A', 'D', 'C', 'F', 'E', 'H'], ['A', 'D', 'C', 'F', 'G', 'H'], ['A', 'D', 'E', 'F', 'G', 'H'], ['A', 'B', 'D', 'C', 'F', 'E', 'H'], ['A', 'B', 'D', 'C', 'F', 'G', 'H'], ['A', 'B', 'D', 'E', 'F', 'G', 'H'], ['A', 'D', 'B', 'C', 'F', 'E', 'H'], ['A', 'D', 'B', 'C', 'F', 'G', 'H'], ['A', 'B', 'C', 'D', 'E', 'F', 'G', 'H']]\n"
     ]
    }
   ],
   "source": [
    "def find_all_paths(paths, target):\n",
    "    result = []\n",
    "    while paths:\n",
    "        paths_next = []\n",
    "        for p in paths:\n",
    "            for n in nodes[p[-1]]:\n",
    "                if n not in p:\n",
    "                    if n == target:\n",
    "                        result.append(p+[n])\n",
    "                    else:\n",
    "                        paths_next.append(p+[n])\n",
    "        paths = paths_next\n",
    "    return result\n",
    "    \n",
    "start = 'A'\n",
    "end = 'H'\n",
    "result = find_all_paths([[start]], end)\n",
    "\n",
    "print('all paths:')\n",
    "print(result)"
   ]
  },
  {
   "cell_type": "code",
   "execution_count": 57,
   "metadata": {},
   "outputs": [
    {
     "name": "stdout",
     "output_type": "stream",
     "text": [
      "shortest path:\n",
      "['A', 'H']\n"
     ]
    }
   ],
   "source": [
    "# nodes = {'A': ['B','D'], \n",
    "#          'B': ['A','D','C'], \n",
    "#          'C': ['B','D','F'], \n",
    "#          'D': ['A','B','C','E'], \n",
    "#          'E': ['D','F','H'],\n",
    "#          'F': ['C','E','G'],\n",
    "#          'G': ['F','H'],\n",
    "#          'H': ['A','E','G']}\n",
    "\n",
    "def find_shortest_path(paths, target):\n",
    "    while paths:\n",
    "        paths_next = []\n",
    "        for p in paths:\n",
    "            for n in nodes[p[-1]]:\n",
    "                if n not in p:\n",
    "                    if n == target:\n",
    "                        return p+[n]\n",
    "                    paths_next.append(p+[n])\n",
    "        paths = paths_next\n",
    "    \n",
    "start = 'A'\n",
    "end = 'H'\n",
    "result = find_shortest_path([[start]], end)\n",
    "\n",
    "print('shortest path:')\n",
    "print(result)"
   ]
  },
  {
   "cell_type": "code",
   "execution_count": null,
   "metadata": {},
   "outputs": [],
   "source": []
  }
 ],
 "metadata": {
  "kernelspec": {
   "display_name": "Python 3",
   "language": "python",
   "name": "python3"
  },
  "language_info": {
   "codemirror_mode": {
    "name": "ipython",
    "version": 3
   },
   "file_extension": ".py",
   "mimetype": "text/x-python",
   "name": "python",
   "nbconvert_exporter": "python",
   "pygments_lexer": "ipython3",
   "version": "3.7.3"
  }
 },
 "nbformat": 4,
 "nbformat_minor": 2
}
